{
 "cells": [
  {
   "cell_type": "code",
   "execution_count": 31,
   "metadata": {},
   "outputs": [],
   "source": [
    "import numpy as np\n",
    "\n",
    "filename='ex2data2.txt'\n",
    "x=np.loadtxt(fname=filename,delimiter=',',usecols=(0,1))\n",
    "x=np.column_stack((np.ones(x.shape[0]),x))\n",
    "y=np.loadtxt(fname=filename,delimiter=',',usecols=(2)).reshape(x.shape[0],1)\n",
    "\n",
    "m=y.shape[0]\n",
    "w=np.random.rand(3,1)\n",
    "learning_rate=0.01\n",
    "\n",
    "#sigmoid function for array caculation\n",
    "def sigmoid(z):\n",
    "    return 1/(1+np.exp(-z))\n",
    "\n",
    "for epoch in range(40000):\n",
    "    #forward propagation\n",
    "    z=np.dot(x,w)\n",
    "    a=sigmoid(z)\n",
    "    #backward propagation\n",
    "    dz=a-y\n",
    "    dw=np.dot(x.T,dz)/m\n",
    "    w=w-learning_rate*dw"
   ]
  },
  {
   "cell_type": "code",
   "execution_count": null,
   "metadata": {},
   "outputs": [],
   "source": []
  }
 ],
 "metadata": {
  "kernelspec": {
   "display_name": "Python 3",
   "language": "python",
   "name": "python3"
  },
  "language_info": {
   "codemirror_mode": {
    "name": "ipython",
    "version": 3
   },
   "file_extension": ".py",
   "mimetype": "text/x-python",
   "name": "python",
   "nbconvert_exporter": "python",
   "pygments_lexer": "ipython3",
   "version": "3.7.7"
  }
 },
 "nbformat": 4,
 "nbformat_minor": 4
}
