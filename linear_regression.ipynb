{
 "cells": [
  {
   "cell_type": "code",
   "execution_count": 126,
   "metadata": {},
   "outputs": [],
   "source": [
    "import numpy as np\n",
    "\n",
    "path='/Users/xxxxxxx/Desktop/ex1data1.txt'\n",
    "#x_input\n",
    "x=np.mat(np.loadtxt(fname=path,delimiter=',',usecols=(0,))).T\n",
    "x=np.insert(x,0,values=1,axis=1)\n",
    "#y_input\n",
    "y=np.mat(np.loadtxt(fname=path,delimiter=',',usecols=(1))).T\n",
    "\n",
    "#weight matrix\n",
    "w=np.mat(np.random.rand(2,1))\n",
    "\n",
    "'''\n",
    "def cost_function(x,y,w):\n",
    "    return np.square(x.dot(w)-y).sum()/(2*np.size(x))\n",
    "'''\n",
    "learning_rate=1e-2 #0.01\n",
    "iters=50000\n",
    "\n",
    "def batch_gradient_descent_function(x,y,w,learning_rate,iters):\n",
    "    for i in range(iters):\n",
    "        h=x.dot(w)-y\n",
    "        w=w-(learning_rate/np.size(x))*(np.multiply(h,x).sum(axis=0)).T\n",
    "    return w"
   ]
  },
  {
   "cell_type": "code",
   "execution_count": null,
   "metadata": {},
   "outputs": [],
   "source": []
  }
 ],
 "metadata": {
  "kernelspec": {
   "display_name": "Python 3",
   "language": "python",
   "name": "python3"
  },
  "language_info": {
   "codemirror_mode": {
    "name": "ipython",
    "version": 3
   },
   "file_extension": ".py",
   "mimetype": "text/x-python",
   "name": "python",
   "nbconvert_exporter": "python",
   "pygments_lexer": "ipython3",
   "version": "3.7.7"
  }
 },
 "nbformat": 4,
 "nbformat_minor": 4
}
