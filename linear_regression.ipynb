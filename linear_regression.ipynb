{
 "cells": [
  {
   "cell_type": "code",
   "execution_count": 177,
   "metadata": {},
   "outputs": [],
   "source": [
    "import numpy as np\n",
    "\n",
    "path='/Users/xxxxx/Desktop/ex1data1.txt'\n",
    "#input matrix x\n",
    "x=np.matrix(np.loadtxt(path,delimiter=',',usecols=(0,))).T\n",
    "x=np.insert(x,0,values=1,axis=1)\n",
    "#target matrix y\n",
    "y=np.matrix(np.loadtxt(path,delimiter=',',usecols=(1))).T\n",
    "\n",
    "\n",
    "theta=np.matrix(np.random.rand(2,1))\n",
    "\n",
    "#cost function\n",
    "def computeCost(x,y,theta):\n",
    "    inner=np.power((x*theta-y),2)\n",
    "    return np.sum(inner)/(2*np.size(x))\n",
    "#learning rat\n",
    "alpha=0.01\n",
    "#iteration times\n",
    "iters=50000\n",
    "#Gradient Descent function\n",
    "def gradientDescent(x,y,theta,alpha,iters):\n",
    "    #生成一个temp的空theta维矩阵，因为梯度下降要求variable同步更新\n",
    "    temp=np.matrix(np.zeros(theta.shape))\n",
    "    #得到theta变量的个数,也就是shape的列数\n",
    "    parameters=int(theta.ravel().shape[1])\n",
    "    \n",
    "    for i in range(iters):\n",
    "        error=(x*theta)-y\n",
    "        \n",
    "        #梯度下降函数逐个更新variable\n",
    "        for j in range(parameters):\n",
    "            term=np.multiply(error,x[:,j])\n",
    "            temp[j,0]=theta[j,0]-((alpha/np.size(x))*np.sum(term))\n",
    "        theta=temp\n",
    "    return theta"
   ]
  },
  {
   "cell_type": "code",
   "execution_count": 178,
   "metadata": {
    "scrolled": false
   },
   "outputs": [
    {
     "data": {
      "text/plain": [
       "matrix([[-3.89578088],\n",
       "        [ 1.19303364]])"
      ]
     },
     "execution_count": 178,
     "metadata": {},
     "output_type": "execute_result"
    }
   ],
   "source": [
    "gradientDescent(x,y,theta,alpha,iters)"
   ]
  }
 ],
 "metadata": {
  "kernelspec": {
   "display_name": "Python 3",
   "language": "python",
   "name": "python3"
  },
  "language_info": {
   "codemirror_mode": {
    "name": "ipython",
    "version": 3
   },
   "file_extension": ".py",
   "mimetype": "text/x-python",
   "name": "python",
   "nbconvert_exporter": "python",
   "pygments_lexer": "ipython3",
   "version": "3.7.7"
  }
 },
 "nbformat": 4,
 "nbformat_minor": 4
}
